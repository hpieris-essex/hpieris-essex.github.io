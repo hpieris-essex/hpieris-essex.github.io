{
  "nbformat": 4,
  "nbformat_minor": 0,
  "metadata": {
    "colab": {
      "provenance": []
    },
    "kernelspec": {
      "name": "python3",
      "display_name": "Python 3"
    },
    "language_info": {
      "name": "python"
    }
  },
  "cells": [
    {
      "cell_type": "markdown",
      "source": [
        "# Loading data and libraries"
      ],
      "metadata": {
        "id": "gC0ZF22C7k1Z"
      }
    },
    {
      "cell_type": "code",
      "execution_count": null,
      "metadata": {
        "id": "8eI6BI0cgXIt"
      },
      "outputs": [],
      "source": [
        "import pandas as pd\n",
        "\n",
        "# Load the datasets from CSV files\n",
        "gdp_path = './Global_GDP.csv'  # Replace with the actual path\n",
        "population_path = './Global_Population.csv'  # Replace with the actual path\n",
        "\n",
        "gdp_df = pd.read_csv(gdp_path)\n",
        "population_df = pd.read_csv(population_path)\n"
      ]
    },
    {
      "cell_type": "code",
      "source": [
        "# Displaying the first few rows of each dataframe\n",
        "gdp_head = gdp_df.head()\n",
        "population_head = population_df.head()\n",
        "\n",
        "gdp_head, population_head\n"
      ],
      "metadata": {
        "id": "kemOg1SahOuk"
      },
      "execution_count": null,
      "outputs": []
    },
    {
      "cell_type": "code",
      "source": [
        "# Filling missing values with the mean of each column in the GDP data\n",
        "gdp_df = gdp_df.fillna(gdp_df.mean())\n"
      ],
      "metadata": {
        "id": "FKKFlqqohWNF"
      },
      "execution_count": null,
      "outputs": []
    },
    {
      "cell_type": "markdown",
      "source": [
        "Calculating the Mean GDP (2001-2020)"
      ],
      "metadata": {
        "id": "Ttr02CtQhc7J"
      }
    },
    {
      "cell_type": "code",
      "source": [
        "# Identifying the years to calculate the mean\n",
        "years = [str(year) for year in range(2001, 2021)]\n",
        "\n",
        "# Calculating mean GDP for the years 2001-2020\n",
        "gdp_df['Mean GDP 2001-2020'] = gdp_df[years].mean(axis=1)\n"
      ],
      "metadata": {
        "id": "vndSbzQqhm1J"
      },
      "execution_count": null,
      "outputs": []
    },
    {
      "cell_type": "markdown",
      "source": [
        "Displaying Cleaned GDP Data"
      ],
      "metadata": {
        "id": "HbXS30mch1Oj"
      }
    },
    {
      "cell_type": "code",
      "source": [
        "# Displaying the cleaned GDP data\n",
        "cleaned_gdp_head = gdp_df[['Country Name', 'Mean GDP 2001-2020']].head()\n",
        "cleaned_gdp_head\n"
      ],
      "metadata": {
        "id": "rW8ynmmih7PA"
      },
      "execution_count": null,
      "outputs": []
    },
    {
      "cell_type": "markdown",
      "source": [
        "# Task A: Correlation Analysis\n",
        "Correlation analysis measures the strength and direction of a relationship between two variables."
      ],
      "metadata": {
        "id": "W1hKrUB1iCAh"
      }
    },
    {
      "cell_type": "code",
      "source": [
        "# Since population data was not successfully cleaned, we will only focus on the GDP data\n",
        "# Use 'gdp_df' which contains the cleaned GDP data\n",
        "\n",
        "# Displaying the cleaned GDP data for correlation analysis\n",
        "gdp_for_correlation = gdp_df[['Country Name', 'Mean GDP 2001-2020']]\n",
        "gdp_for_correlation.head()\n",
        "\n"
      ],
      "metadata": {
        "id": "6TOMpMY3iGmA"
      },
      "execution_count": null,
      "outputs": []
    },
    {
      "cell_type": "markdown",
      "source": [
        "### Fixing the Dataframe issues"
      ],
      "metadata": {
        "id": "xuMV8ZShksOl"
      }
    },
    {
      "cell_type": "code",
      "source": [
        "# Recalculating the mean GDP for the years 2001-2020\n",
        "years = [str(year) for year in range(2001, 2021)]\n",
        "gdp_df['Mean GDP 2001-2020'] = gdp_df[years].mean(axis=1)"
      ],
      "metadata": {
        "id": "QcpeDm0dk8MN"
      },
      "execution_count": null,
      "outputs": []
    },
    {
      "cell_type": "markdown",
      "source": [
        "## Plotting GDP Data for Visualisation"
      ],
      "metadata": {
        "id": "9h2mc4emimuD"
      }
    },
    {
      "cell_type": "code",
      "source": [
        "import matplotlib.pyplot as plt\n",
        "\n",
        "# Now you can use plt to create your plot\n",
        "plt.figure(figsize=(10, 6))\n",
        "plt.hist(gdp_for_correlation['Mean GDP 2001-2020'], bins=30, color='blue')\n",
        "plt.xlabel('Mean GDP 2001-2020 (US$)')\n",
        "plt.ylabel('Frequency')\n",
        "plt.title('Distribution of Mean GDP 2001-2020')\n",
        "plt.show()\n"
      ],
      "metadata": {
        "id": "-lGgxfJQ8aod"
      },
      "execution_count": null,
      "outputs": []
    },
    {
      "cell_type": "markdown",
      "source": [],
      "metadata": {
        "id": "1mRELspo7jt3"
      }
    },
    {
      "cell_type": "markdown",
      "source": [
        "GDP Distribution: The histogram provides a visual representation of how mean GDP ​​\n",
        "values are distributed across different countries."
      ],
      "metadata": {
        "id": "whhC1RfVlIky"
      }
    },
    {
      "cell_type": "markdown",
      "source": [
        "## Insights from the Histogram"
      ],
      "metadata": {
        "id": "K5EmnGMekq3N"
      }
    },
    {
      "cell_type": "markdown",
      "source": [
        "**Skewness: **If the histogram shows a concentration of values towards the left and a long tail to the right, it indicates a right-skewed distribution. This suggests that most countries have a lower GDP, with a few countries having significantly higher GDP.\n",
        "\n",
        "**Outliers and Economic Disparities:** The presence of outliers, visible as separate bars on the far right, highlights countries with exceptionally high GDP. This reflects economic disparities between countries.\n",
        "\n",
        "**Central Tendency and Spread:** The histogram also gives an idea of the central tendency (like mean or median) and the spread (range, variance) of the GDP values.\n",
        "\n",
        "**Economic Insight: **This distribution can lead to discussions about global economic structures, with a focus on why some countries have much higher GDPs compared to others.\n",
        "\n",
        "This histogram is a valuable tool for initiating discussions on global economic patterns and the disparities in economic prosperity among countries."
      ],
      "metadata": {
        "id": "AP-gbS-llewt"
      }
    },
    {
      "cell_type": "markdown",
      "source": [
        "# Task B: Regression\n",
        "\n",
        "Regression analysis models and predicts the relationship between a dependent variable and independent variables.\n",
        "\n",
        "### **Next Steps for Task B:**\n",
        "* **Match Years with GDP Data**: Since the GDP data covers 2001 to 2020, we will use population data from the same range.\n",
        "* **Calculate Mean Population**: Compute the mean population for each country from 2001 to 2020.\n",
        "* **Merge with GDP Data**: Merge this population data with the GDP data.\n",
        "* **Perform Linear Regression**: Use the mean population as the independent variable and mean GDP as the dependent variable.\n"
      ],
      "metadata": {
        "id": "WEcZtbGqnX0x"
      }
    },
    {
      "cell_type": "code",
      "source": [
        "import pandas as pd\n",
        "\n",
        "# Load the new population data\n",
        "new_population_path = '/content/world_population.csv'  # Replace with your file path\n",
        "new_population_df = pd.read_csv(new_population_path)\n",
        "\n",
        "# Process the new_population_df as needed\n",
        "# For example, calculating mean population, handling missing values, etc.\n",
        "\n",
        "# After processing, you can proceed with the merge operation\n"
      ],
      "metadata": {
        "id": "lcD-BYc0153n"
      },
      "execution_count": null,
      "outputs": []
    },
    {
      "cell_type": "code",
      "source": [
        "# Check if the 'Approx Mean Population 2000-2020' column exists in new_population_df\n",
        "if 'Approx Mean Population 2000-2020' in new_population_df.columns:\n",
        "    print(\"Column exists.\")\n",
        "else:\n",
        "    print(\"Column does not exist. Needs to be created.\")\n"
      ],
      "metadata": {
        "id": "kbDe147l2RVo"
      },
      "execution_count": null,
      "outputs": []
    },
    {
      "cell_type": "code",
      "source": [
        "# Selecting relevant year columns for the population data\n",
        "selected_years_population = ['2020 Population', '2015 Population', '2010 Population', '2000 Population']\n",
        "new_population_df['Approx Mean Population 2000-2020'] = new_population_df[selected_years_population].mean(axis=1)\n",
        "\n",
        "# Verifying that the column has been added\n",
        "if 'Approx Mean Population 2000-2020' in new_population_df.columns:\n",
        "    print(\"Column successfully created.\")\n",
        "else:\n",
        "    print(\"Column creation failed.\")\n"
      ],
      "metadata": {
        "id": "H696PmDL2aT1"
      },
      "execution_count": null,
      "outputs": []
    },
    {
      "cell_type": "code",
      "source": [
        "import pandas as pd\n",
        "from sklearn.linear_model import LinearRegression\n",
        "import matplotlib.pyplot as plt\n",
        "\n",
        "# Ensure gdp_df and new_population_df are already loaded and processed\n",
        "\n",
        "# Step 1: Merge the DataFrames on a common column\n",
        "# Replace 'Country Name' with the actual common column name if it's different\n",
        "regression_df = pd.merge(gdp_df[['Country Name', 'Mean GDP 2001-2020']],\n",
        "                         new_population_df[['Country/Territory', 'Approx Mean Population 2000-2020']],\n",
        "                         left_on='Country Name',\n",
        "                         right_on='Country/Territory')\n",
        "\n",
        "# Step 2: Perform Regression Analysis\n",
        "# Assuming 'Mean GDP 2001-2020' is your dependent variable and\n",
        "# 'Approx Mean Population 2000-2020' is your independent variable\n",
        "model = LinearRegression()\n",
        "X = regression_df[['Approx Mean Population 2000-2020']]\n",
        "y = regression_df['Mean GDP 2001-2020']\n",
        "\n",
        "# Fitting the model\n",
        "model.fit(X, y)\n",
        "\n",
        "# Plotting the regression line\n",
        "plt.figure(figsize=(10, 6))\n",
        "plt.scatter(X, y, color='blue')  # Actual data points\n",
        "plt.plot(X, model.predict(X), color='red')  # Regression line\n",
        "plt.xlabel('Approx Mean Population 2000-2020')\n",
        "plt.ylabel('Mean GDP 2001-2020 (US$)')\n",
        "plt.title('Linear Regression: Population vs GDP')\n",
        "plt.show()\n"
      ],
      "metadata": {
        "id": "52DbEzJo8xGx"
      },
      "execution_count": null,
      "outputs": []
    },
    {
      "cell_type": "markdown",
      "source": [
        "### Merge with GDP Data and Perform Regression"
      ],
      "metadata": {
        "id": "JZ76og7z1cRi"
      }
    },
    {
      "cell_type": "code",
      "source": [
        "# Checking for NaN values in regression_df\n",
        "nan_check = regression_df.isna().sum()\n",
        "\n",
        "# If NaN values are present, we can choose to either fill them with a value (like the mean) or drop these rows\n",
        "# For example, to drop rows with NaN values:\n",
        "regression_df_cleaned = regression_df.dropna()\n",
        "\n",
        "# Re-running the linear regression on the cleaned data\n",
        "model = LinearRegression()\n",
        "X_cleaned = regression_df_cleaned[['Approx Mean Population 2000-2020']]\n",
        "y_cleaned = regression_df_cleaned['Mean GDP 2001-2020']\n",
        "model.fit(X_cleaned, y_cleaned)\n",
        "\n",
        "# Plotting the regression line on the cleaned data\n",
        "plt.figure(figsize=(10, 6))\n",
        "plt.scatter(X_cleaned, y_cleaned, color='blue')\n",
        "plt.plot(X_cleaned, model.predict(X_cleaned), color='red')\n",
        "plt.xlabel('Approx Mean Population 2000-2020')\n",
        "plt.ylabel('Mean GDP 2001-2020 (US$)')\n",
        "plt.title('Linear Regression: Population vs GDP (Cleaned Data)')\n",
        "plt.show()\n"
      ],
      "metadata": {
        "id": "wULEHu4a3COj"
      },
      "execution_count": null,
      "outputs": []
    },
    {
      "cell_type": "markdown",
      "source": [
        "### Insights\n",
        "\n",
        "**Positive Correlation:** Larger populations generally correlate with higher GDPs, as indicated by the upward slope of the regression line.\n",
        "\n",
        "**Variability:** The spread of data points suggests varying degrees of economic efficiency across countries.\n",
        "\n",
        "**Outliers:** Points far from the trend line highlight unique economic conditions or productivity levels in some countries.\n",
        "\n",
        "**General Trend: **The plot reveals a broad trend but doesn't capture all factors influencing GDP, highlighting the model's limitations."
      ],
      "metadata": {
        "id": "SoYKULe-3_BL"
      }
    },
    {
      "cell_type": "markdown",
      "source": [
        "### Using Plotly to visualise the population to GDP\n",
        "relationships"
      ],
      "metadata": {
        "id": "e-fXYn284n0y"
      }
    },
    {
      "cell_type": "code",
      "source": [
        "\n",
        "import plotly.express as px\n",
        "\n",
        "# Ensure you have the merged DataFrame 'regression_df' ready\n",
        "# It should contain 'Country Name', 'Mean GDP 2001-2020', and 'Approx Mean Population 2000-2020' columns\n",
        "\n",
        "fig = px.scatter(\n",
        "    regression_df,\n",
        "    x='Approx Mean Population 2000-2020',\n",
        "    y='Mean GDP 2001-2020',\n",
        "    text='Country Name',\n",
        "    title='Interactive Plot: Population vs GDP',\n",
        "    labels={\n",
        "        'Approx Mean Population 2000-2020': 'Approx Mean Population (2000-2020)',\n",
        "        'Mean GDP 2001-2020': 'Mean GDP (2001-2020, US$)'\n",
        "    }\n",
        ")\n",
        "\n",
        "# Enhancing readability\n",
        "fig.update_traces(textposition='top center')\n",
        "fig.update_layout(showlegend=False)\n",
        "\n",
        "# Displaying the plot\n",
        "fig.show()\n"
      ],
      "metadata": {
        "id": "G9M7JdEJ4vUf"
      },
      "execution_count": null,
      "outputs": []
    },
    {
      "cell_type": "markdown",
      "source": [
        "Double click points above\n",
        " to view a detailed section"
      ],
      "metadata": {
        "id": "7kJHGkNS5UGK"
      }
    }
  ]
}