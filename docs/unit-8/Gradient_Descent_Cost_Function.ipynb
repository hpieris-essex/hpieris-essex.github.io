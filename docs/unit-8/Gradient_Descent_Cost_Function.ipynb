{
  "cells": [
    {
      "cell_type": "markdown",
      "metadata": {
        "id": "r6mvvdtomALV"
      },
      "source": [
        "## Calculating cost with gradient descent and learning rate\n"
      ]
    },
    {
      "cell_type": "markdown",
      "metadata": {
        "id": "ETYN-ex1mALY"
      },
      "source": [
        "![cost_function.png](attachment:cost_function.png)"
      ]
    },
    {
      "cell_type": "code",
      "execution_count": 2,
      "metadata": {
        "id": "XV9ip3gTmALY",
        "outputId": "702ee593-617e-444a-c1b8-869ec7c81f14",
        "colab": {
          "base_uri": "https://localhost:8080/"
        }
      },
      "outputs": [
        {
          "output_type": "stream",
          "name": "stdout",
          "text": [
            "m 0.62, b 0.18, cost 89.0 iteration 0\n",
            "m 1.0928, b 0.3192, cost 52.25039999999999 iteration 1\n",
            "m 1.453232, b 0.42724799999999996, cost 30.831949440000002 iteration 2\n",
            "m 1.7278860800000002, b 0.5115091199999999, cost 18.347751350784 iteration 3\n",
            "m 1.9370605952000002, b 0.5776057727999999, cost 11.070010749324897 iteration 4\n",
            "m 2.096250917888, b 0.6298300216319999, cost 6.826353152519786 iteration 5\n",
            "m 2.2172859146547204, b 0.6714583661260799, cost 4.350826141683065 iteration 6\n",
            "m 2.309195511463117, b 0.7049920439242751, cost 2.9056952040975976 iteration 7\n",
            "m 2.3788729763057748, b 0.7323404723580026, cost 2.0610450731046615 iteration 8\n",
            "m 2.431580493177024, b 0.7549612843324961, cost 1.5663423003130599 iteration 9\n",
            "m 2.471335107618129, b 0.7739672290552247, cost 1.2755882811903883 iteration 10\n",
            "m 2.501203350198827, b 0.7902077780170325, cost 1.1037021437989751 iteration 11\n",
            "m 2.523526146474063, b 0.8043314214447622, cost 1.0011028556851886 iteration 12\n",
            "m 2.5400905089630834, b 0.8168332242274232, cost 0.9388969341253388 iteration 13\n",
            "m 2.55226060353756, b 0.8280911292050898, cost 0.9002465769594267 iteration 14\n",
            "m 2.561077803006991, b 0.8383936704087344, cost 0.8753394365713272 iteration 15\n",
            "m 2.567337066120929, b 0.8479611288201402, cost 0.8584572531892551 iteration 16\n",
            "m 2.5716452438451163, b 0.8569616822764816, cost 0.8462675994905574 iteration 17\n",
            "m 2.574465589262602, b 0.865523734000245, cost 0.8368283939224842 iteration 18\n",
            "m 2.5761517355848147, b 0.8737453239644839, cost 0.8290077803438447 iteration 19\n"
          ]
        }
      ],
      "source": [
        "# code credit:codebasics https://codebasics.io/coming-soon\n",
        "\n",
        "import numpy as np\n",
        "\n",
        "def gradient_descent(x,y):\n",
        "    m_curr = b_curr = 0\n",
        "    iterations = 20 #40 #60 #80 #100\n",
        "    n = len(x)\n",
        "    learning_rate = 0.01 #0.08\n",
        "\n",
        "    for i in range(iterations):\n",
        "        y_predicted = m_curr * x + b_curr\n",
        "        cost = (1/n) * sum([val**2 for val in (y-y_predicted)])\n",
        "        md = -(2/n)*sum(x*(y-y_predicted))\n",
        "        bd = -(2/n)*sum(y-y_predicted)\n",
        "        m_curr = m_curr - learning_rate * md\n",
        "        b_curr = b_curr - learning_rate * bd\n",
        "        print (\"m {}, b {}, cost {} iteration {}\".format(m_curr,b_curr,cost, i))\n",
        "\n",
        "x = np.array([1,2,3,4,5])\n",
        "y = np.array([5,7,9,11,13])\n",
        "\n",
        "gradient_descent(x,y)"
      ]
    },
    {
      "cell_type": "code",
      "execution_count": null,
      "metadata": {
        "id": "1FJ8vcNamALZ"
      },
      "outputs": [],
      "source": []
    }
  ],
  "metadata": {
    "kernelspec": {
      "display_name": "Python 3",
      "language": "python",
      "name": "python3"
    },
    "language_info": {
      "codemirror_mode": {
        "name": "ipython",
        "version": 3
      },
      "file_extension": ".py",
      "mimetype": "text/x-python",
      "name": "python",
      "nbconvert_exporter": "python",
      "pygments_lexer": "ipython3",
      "version": "3.7.6"
    },
    "colab": {
      "provenance": []
    }
  },
  "nbformat": 4,
  "nbformat_minor": 0
}